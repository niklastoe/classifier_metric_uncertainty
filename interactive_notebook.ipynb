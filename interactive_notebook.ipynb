{
 "cells": [
  {
   "cell_type": "markdown",
   "metadata": {},
   "source": [
    "# Interactive Bayesian assesment of Confusion Matrix Metrics\n",
    "\n",
    "If you try to predict something (protein binding, football matches, weather...) and want to assess how good your predictions work, you usually rely on metrics such as accuracy, sensitivity etc.\n",
    "\n"
   ]
  },
  {
   "cell_type": "code",
   "execution_count": 1,
   "metadata": {},
   "outputs": [],
   "source": [
    "import sys\n",
    "sys.path.append('/home/niklas/python_packages/')"
   ]
  },
  {
   "cell_type": "code",
   "execution_count": 2,
   "metadata": {},
   "outputs": [],
   "source": [
    "import numpy as np\n",
    "import matplotlib.pyplot as plt\n",
    "%matplotlib inline\n",
    "plt.rc('font', **{'size': 22})\n",
    "\n",
    "import pandas as pd\n",
    "\n",
    "import ipywidgets\n",
    "\n",
    "from bayesian_inference_confusion_matrix import ConfusionMatrixAnalyser, NewPrevalence, BetaBinomialDist\n",
    "from classifier_comparison import classifier_outperformance"
   ]
  },
  {
   "cell_type": "code",
   "execution_count": 3,
   "metadata": {},
   "outputs": [],
   "source": [
    "analyser = ConfusionMatrixAnalyser(pd.Series([5, 5, 5, 5], index=['TP', 'FN', 'TN', 'FP']))"
   ]
  },
  {
   "cell_type": "code",
   "execution_count": 4,
   "metadata": {},
   "outputs": [],
   "source": [
    "def new_cm(TP='5', TN='5', FN='5', FP='5', \n",
    "           metric='BM', show_theta_metric=True, show_pp_metric=False, show_sample_metric=True, \n",
    "           lower_boundary=-1., upper_boundary=1.):\n",
    "    cm = pd.Series({'TP': int(TP),\n",
    "                    'TN': int(TN),\n",
    "                    'FN': int(FN),\n",
    "                    'FP': int(FP)})\n",
    "    \n",
    "    analyser = ConfusionMatrixAnalyser(cm)\n",
    "    \n",
    "    print('\\n Definition of selected metric:')\n",
    "    print(metric + ' = ')\n",
    "    print(analyser.metrics['symbolic'][metric])\n",
    "    print('\\n')\n",
    "    \n",
    "    plt.figure(figsize=(8,6))\n",
    "    analyser.plot_metric(metric, \n",
    "                         show_theta_metric, \n",
    "                         show_pp_metric,\n",
    "                         show_sample_metric)\n",
    "  \n",
    "    integral = analyser.integrate_metric(metric, \n",
    "                                  lower_boundary, \n",
    "                                  upper_boundary)\n",
    "    \n",
    "    print('Probability that %s < %s < %s: %s' % (str(lower_boundary), metric, str(upper_boundary), str(integral*100)) + '%')\n",
    "    \n",
    "    \n",
    "    hpd = analyser.calc_hpd(analyser.theta_metrics[metric])\n",
    "    \n",
    "    print('95% credible interval: ' + str(hpd))"
   ]
  },
  {
   "cell_type": "markdown",
   "metadata": {},
   "source": [
    "Plot metrics (see [Wikipedia](https://en.wikipedia.org/wiki/Confusion_matrix) for a definition of the metrics)"
   ]
  },
  {
   "cell_type": "code",
   "execution_count": 5,
   "metadata": {},
   "outputs": [
    {
     "name": "stdout",
     "output_type": "stream",
     "text": [
      "\n",
      " Definition of selected metric:\n",
      "BM = \n",
      "TN/(FP + TN) + TP/(FN + TP) - 1\n",
      "\n",
      "\n",
      "Probability that 0.0 < BM < 1.0: 49.86%\n",
      "95% credible interval: [-0.41131635  0.41415439]\n"
     ]
    },
    {
     "data": {
      "image/png": "[encoded data removed]",
      "text/plain": [
       "<Figure size 576x432 with 1 Axes>"
      ]
     },
     "metadata": {
      "needs_background": "light"
     },
     "output_type": "display_data"
    },
    {
     "data": {
      "text/plain": [
       "<function __main__.new_cm(TP='5', TN='5', FN='5', FP='5', metric='BM', show_theta_metric=True, show_pp_metric=False, show_sample_metric=True, lower_boundary=-1.0, upper_boundary=1.0)>"
      ]
     },
     "execution_count": 5,
     "metadata": {},
     "output_type": "execute_result"
    }
   ],
   "source": [
    "lower_bound_slider = ipywidgets.FloatSlider(value=0., min=-1., max=1., step=0.1)\n",
    "upper_bound_slider = ipywidgets.FloatSlider(value=1., min=-1., max=1., step=0.1)\n",
    "\n",
    "plt.figure(figsize=(10,7))\n",
    "ipywidgets.interact(new_cm, metric=analyser.theta_metrics.columns, lower_boundary=lower_bound_slider, upper_boundary=upper_bound_slider)"
   ]
  },
  {
   "cell_type": "markdown",
   "metadata": {},
   "source": [
    "# Sample size determination \n",
    "\n",
    "The necessary sample size to decrease metric uncertainty to an acceptable level can be determined for ACC, TPR, TNR, etc."
   ]
  },
  {
   "cell_type": "code",
   "execution_count": 49,
   "metadata": {},
   "outputs": [],
   "source": [
    "def calc_MU(N):\n",
    "    N = int(N)\n",
    "    MU = 2. / np.sqrt(N)\n",
    "    formatted_string = 'For N=%2.1e, metric uncertainty should be below %2.1e in 95 of all cases.' % (N, MU)\n",
    "    print(formatted_string)"
   ]
  },
  {
   "cell_type": "code",
   "execution_count": 50,
   "metadata": {},
   "outputs": [
    {
     "name": "stdout",
     "output_type": "stream",
     "text": [
      "For N=1.0e+02, metric uncertainty should be below 2.0e-01 in 95 of all cases.\n"
     ]
    },
    {
     "data": {
      "text/plain": [
       "<function __main__.calc_MU(N)>"
      ]
     },
     "execution_count": 50,
     "metadata": {},
     "output_type": "execute_result"
    }
   ],
   "source": [
    "ipywidgets.interact(calc_MU, N='100')"
   ]
  },
  {
   "cell_type": "code",
   "execution_count": 46,
   "metadata": {},
   "outputs": [],
   "source": [
    "def calc_N(MU):\n",
    "    MU = float(MU)\n",
    "    N = 4. / MU**2\n",
    "    formatted_string = 'If metric uncertainty should be below %2.1e in 95 percent of all cases, N must be at least %2.1e.' % (MU, N)\n",
    "    print(formatted_string)"
   ]
  },
  {
   "cell_type": "code",
   "execution_count": 48,
   "metadata": {},
   "outputs": [
    {
     "name": "stdout",
     "output_type": "stream",
     "text": [
      "If metric uncertainty should be below 1.0e-02 in 95 percent of all cases, N must be at least 4.0e+04.\n"
     ]
    },
    {
     "data": {
      "text/plain": [
       "<function __main__.calc_N(MU)>"
      ]
     },
     "execution_count": 48,
     "metadata": {},
     "output_type": "execute_result"
    }
   ],
   "source": [
    "ipywidgets.interact(calc_N, MU='0.01')"
   ]
  },
  {
   "cell_type": "markdown",
   "metadata": {},
   "source": [
    "# Compare two different classifiers"
   ]
  },
  {
   "cell_type": "code",
   "execution_count": 10,
   "metadata": {
    "collapsed": true
   },
   "outputs": [],
   "source": [
    "def compare_classifier(TP1='15', TN1='5', FN1='5', FP1='15', TP2='10', TN2='10', FN2='10', FP2='10',\n",
    "           metric='BM', show_theta_metric=True, show_pp_metric=False, show_sample_metric=True, \n",
    "           lower_boundary=-1., upper_boundary=1.):\n",
    "    \n",
    "    cm1 = pd.Series({'TP': int(TP1),\n",
    "                    'TN': int(TN1),\n",
    "                    'FN': int(FN1),\n",
    "                    'FP': int(FP1)})\n",
    "    \n",
    "    analyser1 = ConfusionMatrixAnalyser(cm1)\n",
    "    \n",
    "    cm2 = pd.Series({'TP': int(TP2),\n",
    "                    'TN': int(TN2),\n",
    "                    'FN': int(FN2),\n",
    "                    'FP': int(FP2)})\n",
    "    \n",
    "    analyser2 = ConfusionMatrixAnalyser(cm2)\n",
    "    \n",
    "    plt.figure(figsize=(8,6))\n",
    "    analyser1.plot_metric(metric, \n",
    "                         show_theta_metric, \n",
    "                         show_pp_metric,\n",
    "                         show_sample_metric)\n",
    "    analyser2.plot_metric(metric, \n",
    "                         show_theta_metric, \n",
    "                         show_pp_metric,\n",
    "                         show_sample_metric)\n",
    "  \n",
    "    plt.legend(['usual 1', 'usual 2', 'Bayes 1', \"Bayes 2\"])\n",
    "    \n",
    "    \n",
    "    outperformance = np.arange(-1., 1., 0.01)\n",
    "\n",
    "    outperformance_probability = []\n",
    "\n",
    "    for i in outperformance:\n",
    "        curr = classifier_outperformance(analyser1.theta_metrics[metric],\n",
    "                                              analyser2.theta_metrics[metric],\n",
    "                                              margin=i)\n",
    "\n",
    "        outperformance_probability.append(curr)\n",
    "\n",
    "    outperformance_probability = pd.Series(outperformance_probability, index=outperformance)\n",
    "    \n",
    "    plt.figure()\n",
    "    outperformance_probability.plot()\n",
    "    xticks = np.arange(-1., 1.25, 0.5)\n",
    "    \n",
    "    plt.xticks(xticks, (xticks*100).astype(int))\n",
    "    plt.axhline(0.5, c='k')\n",
    "    plt.axvline(0.0, c='k')\n",
    "\n",
    "    plt.xlabel('Outperformance lower boundary \\n / percentage points')\n",
    "    plt.ylabel('Probability')"
   ]
  },
  {
   "cell_type": "code",
   "execution_count": 11,
   "metadata": {},
   "outputs": [
    {
     "data": {
      "text/plain": [
       "<Figure size 720x504 with 0 Axes>"
      ]
     },
     "execution_count": 11,
     "metadata": {},
     "output_type": "execute_result"
    },
    {
     "data": {
      "text/plain": [
       "<Figure size 720x504 with 0 Axes>"
      ]
     },
     "metadata": {},
     "output_type": "display_data"
    },
    {
     "data": {
      "application/vnd.jupyter.widget-view+json": {
       "model_id": "796a005f993b440899adb70f7cfececf",
       "version_major": 2,
       "version_minor": 0
      },
      "text/plain": [
       "A Jupyter Widget"
      ]
     },
     "metadata": {},
     "output_type": "display_data"
    },
    {
     "data": {
      "text/plain": [
       "<function __main__.compare_classifier>"
      ]
     },
     "execution_count": 11,
     "metadata": {},
     "output_type": "execute_result"
    }
   ],
   "source": [
    "plt.figure(figsize=(10,7))\n",
    "ipywidgets.interact(compare_classifier, metric=analyser.theta_metrics.columns, lower_boundary=lower_bound_slider, upper_boundary=upper_bound_slider)"
   ]
  },
  {
   "cell_type": "markdown",
   "metadata": {},
   "source": [
    "# Evaluate classifier for new prevalence"
   ]
  },
  {
   "cell_type": "code",
   "execution_count": 46,
   "metadata": {
    "collapsed": true
   },
   "outputs": [],
   "source": [
    "def new_prevalence(TP='5', TN='5', FN='5', FP='5', metric='BM', \n",
    "                   lower_boundary=-1., upper_boundary=1.,\n",
    "                   expected_prevalence='0.5',\n",
    "                   prevalence_weight='2',):\n",
    "    cm = pd.Series({'TP': int(TP),\n",
    "                    'TN': int(TN),\n",
    "                    'FN': int(FN),\n",
    "                    'FP': int(FP)})\n",
    "    \n",
    "    analyser = ConfusionMatrixAnalyser(cm)\n",
    "    \n",
    "    expected_prevalence = float(expected_prevalence)\n",
    "    prevalence_weight = float(prevalence_weight)\n",
    "    new_prev = BetaBinomialDist(expected_prevalence * prevalence_weight, (1-expected_prevalence) * prevalence_weight)\n",
    "    analyser = NewPrevalence(analyser, new_prev)\n",
    "    \n",
    "    print('\\n Definition of selected metric:')\n",
    "    print(metric + ' = ')\n",
    "    print(analyser.metrics['symbolic'][metric])\n",
    "    print('\\n')\n",
    "    \n",
    "    fig, axes = plt.subplots(nrows=2, figsize=(8,8))\n",
    "\n",
    "    analyser.plot_metric('PREVALENCE', \n",
    "                         show_theta_metric=True, \n",
    "                         show_pp_metric=False,\n",
    "                         show_sample_metric=False,\n",
    "                         sel_ax=axes[0])\n",
    "    \n",
    "    analyser.plot_metric(metric, \n",
    "                         show_theta_metric=True, \n",
    "                         show_pp_metric=False,\n",
    "                         show_sample_metric=False,\n",
    "                         sel_ax=axes[1])\n",
    "  \n",
    "    plt.subplots_adjust(hspace=0.5)\n",
    "\n",
    "    integral = analyser.integrate_metric(metric, \n",
    "                                  lower_boundary, \n",
    "                                  upper_boundary)\n",
    "    \n",
    "    print('Probability that %s < %s < %s: %s' % (str(lower_boundary), metric, str(upper_boundary), str(integral*100)) + '%')\n",
    "    \n",
    "    \n",
    "    hpd = analyser.calc_hpd(analyser.theta_metrics[metric])\n",
    "    \n",
    "    print('95% credible interval: ' + str(hpd))"
   ]
  },
  {
   "cell_type": "code",
   "execution_count": 47,
   "metadata": {},
   "outputs": [
    {
     "data": {
      "text/plain": [
       "<Figure size 720x504 with 0 Axes>"
      ]
     },
     "execution_count": 47,
     "metadata": {},
     "output_type": "execute_result"
    },
    {
     "data": {
      "text/plain": [
       "<Figure size 720x504 with 0 Axes>"
      ]
     },
     "metadata": {},
     "output_type": "display_data"
    },
    {
     "data": {
      "application/vnd.jupyter.widget-view+json": {
       "model_id": "3a70389c24ff42b7a80ce565c8fe3688",
       "version_major": 2,
       "version_minor": 0
      },
      "text/plain": [
       "A Jupyter Widget"
      ]
     },
     "metadata": {},
     "output_type": "display_data"
    },
    {
     "data": {
      "text/plain": [
       "<function __main__.new_prevalence>"
      ]
     },
     "execution_count": 47,
     "metadata": {},
     "output_type": "execute_result"
    }
   ],
   "source": [
    "prev_step = 0.05\n",
    "expected_prevalence_slider = ipywidgets.FloatSlider(value=0.5, min=0. + prev_step, max=1. - prev_step, step=prev_step)\n",
    "\n",
    "plt.figure(figsize=(10,7))\n",
    "ipywidgets.interact(new_prevalence, metric=analyser.theta_metrics.columns, lower_boundary=lower_bound_slider, upper_boundary=upper_bound_slider)"
   ]
  }
 ],
 "metadata": {
  "kernelspec": {
   "display_name": "Python 3",
   "language": "python",
   "name": "python3"
  },
  "language_info": {
   "codemirror_mode": {
    "name": "ipython",
    "version": 3
   },
   "file_extension": ".py",
   "mimetype": "text/x-python",
   "name": "python",
   "nbconvert_exporter": "python",
   "pygments_lexer": "ipython3",
   "version": "3.7.3"
  }
 },
 "nbformat": 4,
 "nbformat_minor": 2
}
